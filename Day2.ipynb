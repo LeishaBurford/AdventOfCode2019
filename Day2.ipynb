{
    "metadata": {
        "kernelspec": {
            "name": "python3",
            "display_name": "Python 3"
        },
        "language_info": {
            "name": "python",
            "version": "3.6.6",
            "mimetype": "text/x-python",
            "codemirror_mode": {
                "name": "ipython",
                "version": 3
            },
            "pygments_lexer": "ipython3",
            "nbconvert_exporter": "python",
            "file_extension": ".py"
        }
    },
    "nbformat_minor": 2,
    "nbformat": 4,
    "cells": [
        {
            "cell_type": "code",
            "source": "from pathlib import Path\ndata_folder = Path(\"./PuzzleData/\")\n\nfile_to_open = data_folder / \"Day2.txt\"\n\n\nwith open(file_to_open) as input:\n    opCodes = [int(code) for code in input.read().split(',')]\n# print(opCodes)",
            "metadata": {},
            "outputs": [],
            "execution_count": 110
        },
        {
            "cell_type": "code",
            "source": "\ndef compute(instructions):\n    for index in range(0, len(instructions) - 4, 4):\n        if instructions[index] == 99 or opCodes[index] > len(opCodes) - 3:\n            break\n        if instructions[index] == 1:\n            instructions[opCodes[index + 3]] = instructions[instructions[index + 1]] + instructions[instructions[index + 2]]\n        if instructions[index] == 2:\n            instructions[instructions[index + 3]] = instructions[instructions[index + 1]] * instructions[instructions[index + 2]]\n\n# compute(opCodes)\n\nnouns = [i for i in range(99)]\nverbs = [i for i in range(99)]\n\nbaseMemory = [code for code in opCodes]\nfor noun in nouns:\n    for verb in verbs:\n        opCodes = [code for code in baseMemory]\n        opCodes[1] = noun\n        opCodes[2] = verb\n        compute(opCodes)\n        if opCodes[0] == 19690720:\n            print(noun, verb)\nfor verb in verbs:\n    for noun in nouns:\n        opCodes = [code for code in baseMemory]\n        opCodes[1] = noun\n        opCodes[2] = verb\n        compute(opCodes)\n        if opCodes[0] == 19690720:\n            print(noun, verb)\nprint('done')\n\n\n",
            "metadata": {},
            "outputs": [
                {
                    "name": "stdout",
                    "text": "23 47\n",
                    "output_type": "stream"
                },
                {
                    "name": "stdout",
                    "text": "23 47\ndone\n",
                    "output_type": "stream"
                }
            ],
            "execution_count": 111
        }
    ]
}