{
    "metadata": {
        "kernelspec": {
            "name": "python3",
            "display_name": "Python 3"
        },
        "language_info": {
            "name": "python",
            "version": "3.6.6",
            "mimetype": "text/x-python",
            "codemirror_mode": {
                "name": "ipython",
                "version": 3
            },
            "pygments_lexer": "ipython3",
            "nbconvert_exporter": "python",
            "file_extension": ".py"
        }
    },
    "nbformat_minor": 2,
    "nbformat": 4,
    "cells": [
        {
            "cell_type": "code",
            "source": "from pathlib import Path\nimport numpy as np\nimport itertools\ndata_folder = Path(\"./PuzzleData/\")\n\nfile_to_open = data_folder / \"Day3.txt\"\n\n\nwith open(file_to_open) as input:\n    wireMoves = [wire.strip().split(',') for wire in input.readlines()]\nprint(wireMoves)",
            "metadata": {},
            "outputs": [
                {
                    "name": "stdout",
                    "text": "[['R8', 'U5', 'L5', 'D3'], ['U7', 'R6', 'D4', 'L4']]\n",
                    "output_type": "stream"
                }
            ],
            "execution_count": 69
        },
        {
            "cell_type": "code",
            "source": "def getNextPositions(move, currentPosition):\n    # print(move, ' ', currentPosition)\n    if move[0] =='R':\n        lineEnd = [currentPosition[0] + int(move[1:]), currentPosition[1]]\n        return [[x, lineEnd[1]] for x in range(currentPosition[0], lineEnd[0] + 1)]\n    if move[0] =='L':\n        lineEnd = [currentPosition[0] - int(move[1:]), currentPosition[1]]\n        return [[x, lineEnd[1]] for x in range(currentPosition[0], lineEnd[0] + 1, -1)]\n    if move[0] =='U':\n        lineEnd = [currentPosition[0], currentPosition[1] + int(move[1:])]  \n        return [[lineEnd[0], x] for x in range(currentPosition[1], lineEnd[1] + 1)]\n    if move[0] =='D':\n        lineEnd = [currentPosition[0], currentPosition[1] - int(move[1:])]\n        return [[lineEnd[0], x] for x in range(currentPosition[1], lineEnd[1] + 1, -1)]",
            "metadata": {},
            "outputs": [],
            "execution_count": 70
        },
        {
            "cell_type": "code",
            "source": "def getWirePositions(wire):\n    wirePositions = []\n    currentPosition = [0, 0]\n    for move in wire:\n        # print(getNextPositions(move, currentPosition))\n        nextPosition = getNextPositions(move, currentPosition)\n        wirePositions.append(nextPosition)\n        currentPosition = nextPosition[-1]\n    # print(wirePositions)\n    return wirePositions",
            "metadata": {},
            "outputs": [],
            "execution_count": 68
        },
        {
            "cell_type": "code",
            "source": "def getManhattanDistance(a, b):\n    return abs(a[0] - b[0]) + abs(b[1] - a[1])",
            "metadata": {},
            "outputs": [],
            "execution_count": 71
        },
        {
            "cell_type": "code",
            "source": "wireOnePositions = list(itertools.chain(*getWirePositions(wireMoves[0])))\nwireTwoPositions = list(itertools.chain(*getWirePositions(wireMoves[1])))\n\nprint(wireOnePositions)\nprint(wireTwoPositions)\n\nintersections = [point for point in wireOnePositions if [point[0], point[1]] in wireTwoPositions and point != [0, 0]]\nprint(intersections)\ndistances = [getManhattanDistance([0, 0], point) for point in intersections]\n\n\n\nprint(min(distances))",
            "metadata": {},
            "outputs": [
                {
                    "name": "stdout",
                    "text": "[[0, 0], [1, 0], [2, 0], [3, 0], [4, 0], [5, 0], [6, 0], [7, 0], [8, 0], [8, 0], [8, 1], [8, 2], [8, 3], [8, 4], [8, 5], [8, 5], [7, 5], [6, 5], [5, 5], [5, 5], [5, 4]]\n[[0, 0], [0, 1], [0, 2], [0, 3], [0, 4], [0, 5], [0, 6], [0, 7], [0, 7], [1, 7], [2, 7], [3, 7], [4, 7], [5, 7], [6, 7], [6, 7], [6, 6], [6, 5], [6, 5], [5, 5], [4, 5]]\n",
                    "output_type": "stream"
                },
                {
                    "traceback": [
                        "\u001b[0;31m---------------------------------------------------------------------------\u001b[0m",
                        "\u001b[0;31mTypeError\u001b[0m                                 Traceback (most recent call last)",
                        "\u001b[0;32m<ipython-input-80-285b515af19a>\u001b[0m in \u001b[0;36m<module>\u001b[0;34m()\u001b[0m\n\u001b[1;32m      5\u001b[0m \u001b[0mprint\u001b[0m\u001b[0;34m(\u001b[0m\u001b[0mwireTwoPositions\u001b[0m\u001b[0;34m)\u001b[0m\u001b[0;34m\u001b[0m\u001b[0m\n\u001b[1;32m      6\u001b[0m \u001b[0;34m\u001b[0m\u001b[0m\n\u001b[0;32m----> 7\u001b[0;31m \u001b[0mintersections\u001b[0m \u001b[0;34m=\u001b[0m \u001b[0mset\u001b[0m\u001b[0;34m(\u001b[0m\u001b[0;34m[\u001b[0m\u001b[0mpoint\u001b[0m \u001b[0;32mfor\u001b[0m \u001b[0mpoint\u001b[0m \u001b[0;32min\u001b[0m \u001b[0mwireOnePositions\u001b[0m \u001b[0;32mif\u001b[0m \u001b[0;34m[\u001b[0m\u001b[0mpoint\u001b[0m\u001b[0;34m[\u001b[0m\u001b[0;36m0\u001b[0m\u001b[0;34m]\u001b[0m\u001b[0;34m,\u001b[0m \u001b[0mpoint\u001b[0m\u001b[0;34m[\u001b[0m\u001b[0;36m1\u001b[0m\u001b[0;34m]\u001b[0m\u001b[0;34m]\u001b[0m \u001b[0;32min\u001b[0m \u001b[0mwireTwoPositions\u001b[0m \u001b[0;32mand\u001b[0m \u001b[0mpoint\u001b[0m \u001b[0;34m!=\u001b[0m \u001b[0;34m[\u001b[0m\u001b[0;36m0\u001b[0m\u001b[0;34m,\u001b[0m \u001b[0;36m0\u001b[0m\u001b[0;34m]\u001b[0m\u001b[0;34m]\u001b[0m\u001b[0;34m)\u001b[0m\u001b[0;34m\u001b[0m\u001b[0m\n\u001b[0m\u001b[1;32m      8\u001b[0m \u001b[0mprint\u001b[0m\u001b[0;34m(\u001b[0m\u001b[0mintersections\u001b[0m\u001b[0;34m)\u001b[0m\u001b[0;34m\u001b[0m\u001b[0m\n\u001b[1;32m      9\u001b[0m \u001b[0mdistances\u001b[0m \u001b[0;34m=\u001b[0m \u001b[0;34m[\u001b[0m\u001b[0mgetManhattanDistance\u001b[0m\u001b[0;34m(\u001b[0m\u001b[0;34m[\u001b[0m\u001b[0;36m0\u001b[0m\u001b[0;34m,\u001b[0m \u001b[0;36m0\u001b[0m\u001b[0;34m]\u001b[0m\u001b[0;34m,\u001b[0m \u001b[0mpoint\u001b[0m\u001b[0;34m)\u001b[0m \u001b[0;32mfor\u001b[0m \u001b[0mpoint\u001b[0m \u001b[0;32min\u001b[0m \u001b[0mintersections\u001b[0m\u001b[0;34m]\u001b[0m\u001b[0;34m\u001b[0m\u001b[0m\n",
                        "\u001b[0;31mTypeError\u001b[0m: unhashable type: 'list'"
                    ],
                    "ename": "TypeError",
                    "evalue": "unhashable type: 'list'",
                    "output_type": "error"
                }
            ],
            "execution_count": 80
        }
    ]
}