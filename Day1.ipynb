{
    "metadata": {
        "kernelspec": {
            "name": "python3",
            "display_name": "Python 3"
        },
        "language_info": {
            "name": "python",
            "version": "3.6.6",
            "mimetype": "text/x-python",
            "codemirror_mode": {
                "name": "ipython",
                "version": 3
            },
            "pygments_lexer": "ipython3",
            "nbconvert_exporter": "python",
            "file_extension": ".py"
        }
    },
    "nbformat_minor": 2,
    "nbformat": 4,
    "cells": [
        {
            "cell_type": "code",
            "source": "from pathlib import Path\nfrom math import floor\ndata_folder = Path(\"./PuzzleData/\")\n\nfile_to_open = data_folder / \"Day1.txt\"\n\n\nwith open(file_to_open) as input:\n    masses = [int(mass.strip()) for mass in input]",
            "metadata": {},
            "outputs": [],
            "execution_count": 51
        },
        {
            "cell_type": "code",
            "source": "totalFuelPart1 = sum([(floor(mass / 3) - 2) for mass in masses])\n\ntotalFuel = 0\nfor mass in masses:\n    moduleFuel = floor(mass / 3) - 2\n    while moduleFuel > 0:\n        totalFuel += moduleFuel\n        moduleFuel = floor(moduleFuel / 3) - 2\n\nprint(totalFuel)",
            "metadata": {},
            "outputs": [
                {
                    "name": "stdout",
                    "text": "4974073\n",
                    "output_type": "stream"
                }
            ],
            "execution_count": 53
        }
    ]
}